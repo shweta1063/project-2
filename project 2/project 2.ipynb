{
 "cells": [
  {
   "cell_type": "code",
   "execution_count": null,
   "metadata": {},
   "outputs": [],
   "source": [
    "#Do the project - Guess the movie name in python.\n",
    "#Firebase Connectivity\n",
    "#!pip install firebase_admin\n",
    "import firebase_admin\n",
    "from firebase_admin import credentials\n",
    "​\n",
    "cred=credentials.Certificate(\"my-project.json\")\n",
    "firebase_admin.initialize_app(cred)\n",
    "print(\"Working\")\n",
    "from firebase_admin import firestore\n",
    "db=firestore.client()\n",
    "doc_ref = db.collection(\"movies\").document(\"Bollywood\")\n",
    "data={\"Name\":[\"war\",\"kgf\",\"3-idiot\",\"family-man\",\"dangal\"]\"collection:[400,500,200,100,600]\"}\n",
    "doc_ref.set(data)\n",
    "print(\"done\")\n",
    "#\n",
    "#Retrive the dataset from data base\n",
    "db=firestore.client()\n",
    "docs=db.collection(\"movies\").stream()\n",
    "for d in docs:\n",
    "   # print(doc.to_dict())\n",
    "    database= d.to_dict()\n",
    "database[\"Name\"]\n",
    "#\n",
    "#Guess the movie name\n",
    "import random \n",
    "movie = database[\"Name\"] \n",
    "player = input(\"Write your Name: \") \n",
    "print(\"Guess the character: \") \n",
    "print(\"You have 10 chance to get the movie name: \") \n",
    "print(\"Best of luck!\",player) \n",
    "count = 10 \n",
    "geuss= \"\" \n",
    "word = random.choice(movie) #war \n",
    "while count>0: \n",
    "    fail = 0 \n",
    "    for char in word: \n",
    "        if char in geuss: \n",
    "            print(char) \n",
    "        else: \n",
    "            print(\"_\") \n",
    "            fail+=1            \n",
    "    if fail==0: \n",
    "        print(\"Congratulation you won!!!\") \n",
    "        print(\"Movie Name was:\",word) \n",
    "        break       \n",
    "    g = input(\"Enter your character: \") \n",
    "    geuss = geuss+g  \n",
    "    if g not in word: \n",
    "        count = count-1 \n",
    "        print(\"Wrong Answer:(\") \n",
    "        print(\"You have \",count,\"more geusses\") \n",
    "•\n",
    "​"
   ]
  }
 ],
 "metadata": {
  "kernelspec": {
   "display_name": "Python 3",
   "language": "python",
   "name": "python3"
  },
  "language_info": {
   "codemirror_mode": {
    "name": "ipython",
    "version": 3
   },
   "file_extension": ".py",
   "mimetype": "text/x-python",
   "name": "python",
   "nbconvert_exporter": "python",
   "pygments_lexer": "ipython3",
   "version": "3.7.6"
  }
 },
 "nbformat": 4,
 "nbformat_minor": 4
}
